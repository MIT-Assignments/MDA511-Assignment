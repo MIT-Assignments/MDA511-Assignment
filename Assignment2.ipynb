{
 "cells": [
  {
   "cell_type": "code",
   "execution_count": 1,
   "id": "265336c7-e278-4a5c-b81f-979ec5b553a8",
   "metadata": {},
   "outputs": [],
   "source": [
    "# Import all libraries in the top so that its easier\n",
    "import pandas as pd\n",
    "import numpy as np\n",
    "import matplotlib.pyplot as plt\n",
    "from scipy.stats import pearsonr"
   ]
  },
  {
   "cell_type": "code",
   "execution_count": 104,
   "id": "9f5d5437-7821-4559-bf00-890ef77715f7",
   "metadata": {},
   "outputs": [],
   "source": [
    "# Import Genetic CSV\n",
    "# TODO:: Get it from hosted site or Host the data source somewhere\n",
    "geneticsDS = pd.read_csv('/Users/rajip/Documents/MIT/Maths and Stats (MDA511)/Assignment2/genetics.csv')"
   ]
  },
  {
   "cell_type": "code",
   "execution_count": 228,
   "id": "77e22f64-07d9-49f9-adb3-62f7be3a95d7",
   "metadata": {},
   "outputs": [
    {
     "data": {
      "text/html": [
       "<div>\n",
       "<style scoped>\n",
       "    .dataframe tbody tr th:only-of-type {\n",
       "        vertical-align: middle;\n",
       "    }\n",
       "\n",
       "    .dataframe tbody tr th {\n",
       "        vertical-align: top;\n",
       "    }\n",
       "\n",
       "    .dataframe thead th {\n",
       "        text-align: right;\n",
       "    }\n",
       "</style>\n",
       "<table border=\"1\" class=\"dataframe\">\n",
       "  <thead>\n",
       "    <tr style=\"text-align: right;\">\n",
       "      <th></th>\n",
       "      <th>Age</th>\n",
       "    </tr>\n",
       "  </thead>\n",
       "  <tbody>\n",
       "    <tr>\n",
       "      <th>count</th>\n",
       "      <td>1250.000000</td>\n",
       "    </tr>\n",
       "    <tr>\n",
       "      <th>mean</th>\n",
       "      <td>32.044800</td>\n",
       "    </tr>\n",
       "    <tr>\n",
       "      <th>std</th>\n",
       "      <td>7.203076</td>\n",
       "    </tr>\n",
       "    <tr>\n",
       "      <th>min</th>\n",
       "      <td>18.000000</td>\n",
       "    </tr>\n",
       "    <tr>\n",
       "      <th>25%</th>\n",
       "      <td>27.000000</td>\n",
       "    </tr>\n",
       "    <tr>\n",
       "      <th>50%</th>\n",
       "      <td>31.000000</td>\n",
       "    </tr>\n",
       "    <tr>\n",
       "      <th>75%</th>\n",
       "      <td>36.000000</td>\n",
       "    </tr>\n",
       "    <tr>\n",
       "      <th>max</th>\n",
       "      <td>65.000000</td>\n",
       "    </tr>\n",
       "  </tbody>\n",
       "</table>\n",
       "</div>"
      ],
      "text/plain": [
       "               Age\n",
       "count  1250.000000\n",
       "mean     32.044800\n",
       "std       7.203076\n",
       "min      18.000000\n",
       "25%      27.000000\n",
       "50%      31.000000\n",
       "75%      36.000000\n",
       "max      65.000000"
      ]
     },
     "execution_count": 228,
     "metadata": {},
     "output_type": "execute_result"
    }
   ],
   "source": [
    "# Filter Data between age 12 to 70\n",
    "geneticsDS = geneticsDS[(geneticsDS['Age'] > 12) & (geneticsDS['Age'] < 70)]\n",
    "geneticsDS['Age'].min()\n",
    "geneticsDS['Age'].max()\n",
    "geneticsDS.index.size\n",
    "geneticsDS.describe()"
   ]
  },
  {
   "cell_type": "code",
   "execution_count": 110,
   "id": "ec59f367-ff00-4cb3-8bc1-e0dc107d3cea",
   "metadata": {},
   "outputs": [
    {
     "data": {
      "text/html": [
       "<div>\n",
       "<style scoped>\n",
       "    .dataframe tbody tr th:only-of-type {\n",
       "        vertical-align: middle;\n",
       "    }\n",
       "\n",
       "    .dataframe tbody tr th {\n",
       "        vertical-align: top;\n",
       "    }\n",
       "\n",
       "    .dataframe thead th {\n",
       "        text-align: right;\n",
       "    }\n",
       "</style>\n",
       "<table border=\"1\" class=\"dataframe\">\n",
       "  <thead>\n",
       "    <tr style=\"text-align: right;\">\n",
       "      <th></th>\n",
       "      <th>Timestamp</th>\n",
       "      <th>Age</th>\n",
       "      <th>Gender</th>\n",
       "      <th>Country</th>\n",
       "      <th>family_history</th>\n",
       "      <th>treatment</th>\n",
       "      <th>tech_company</th>\n",
       "      <th>care_options</th>\n",
       "      <th>seek_help</th>\n",
       "      <th>mental_health_consequence</th>\n",
       "      <th>mental_health_interview</th>\n",
       "      <th>obs_consequence</th>\n",
       "    </tr>\n",
       "  </thead>\n",
       "  <tbody>\n",
       "    <tr>\n",
       "      <th>0</th>\n",
       "      <td>2014-08-27 11:29:31</td>\n",
       "      <td>37</td>\n",
       "      <td>Female</td>\n",
       "      <td>United States</td>\n",
       "      <td>No</td>\n",
       "      <td>Yes</td>\n",
       "      <td>Yes</td>\n",
       "      <td>Not sure</td>\n",
       "      <td>Yes</td>\n",
       "      <td>No</td>\n",
       "      <td>No</td>\n",
       "      <td>No</td>\n",
       "    </tr>\n",
       "    <tr>\n",
       "      <th>1</th>\n",
       "      <td>2014-08-27 11:29:37</td>\n",
       "      <td>44</td>\n",
       "      <td>M</td>\n",
       "      <td>United States</td>\n",
       "      <td>No</td>\n",
       "      <td>No</td>\n",
       "      <td>No</td>\n",
       "      <td>No</td>\n",
       "      <td>Don't know</td>\n",
       "      <td>Maybe</td>\n",
       "      <td>No</td>\n",
       "      <td>No</td>\n",
       "    </tr>\n",
       "    <tr>\n",
       "      <th>2</th>\n",
       "      <td>2014-08-27 11:29:44</td>\n",
       "      <td>32</td>\n",
       "      <td>Male</td>\n",
       "      <td>Canada</td>\n",
       "      <td>No</td>\n",
       "      <td>No</td>\n",
       "      <td>Yes</td>\n",
       "      <td>No</td>\n",
       "      <td>No</td>\n",
       "      <td>No</td>\n",
       "      <td>Yes</td>\n",
       "      <td>No</td>\n",
       "    </tr>\n",
       "    <tr>\n",
       "      <th>3</th>\n",
       "      <td>2014-08-27 11:29:46</td>\n",
       "      <td>31</td>\n",
       "      <td>Male</td>\n",
       "      <td>United Kingdom</td>\n",
       "      <td>Yes</td>\n",
       "      <td>Yes</td>\n",
       "      <td>Yes</td>\n",
       "      <td>Yes</td>\n",
       "      <td>No</td>\n",
       "      <td>Yes</td>\n",
       "      <td>Maybe</td>\n",
       "      <td>Yes</td>\n",
       "    </tr>\n",
       "    <tr>\n",
       "      <th>4</th>\n",
       "      <td>2014-08-27 11:30:22</td>\n",
       "      <td>31</td>\n",
       "      <td>Male</td>\n",
       "      <td>United States</td>\n",
       "      <td>No</td>\n",
       "      <td>No</td>\n",
       "      <td>Yes</td>\n",
       "      <td>No</td>\n",
       "      <td>Don't know</td>\n",
       "      <td>No</td>\n",
       "      <td>Yes</td>\n",
       "      <td>No</td>\n",
       "    </tr>\n",
       "  </tbody>\n",
       "</table>\n",
       "</div>"
      ],
      "text/plain": [
       "             Timestamp  Age  Gender         Country family_history treatment  \\\n",
       "0  2014-08-27 11:29:31   37  Female   United States             No       Yes   \n",
       "1  2014-08-27 11:29:37   44       M   United States             No        No   \n",
       "2  2014-08-27 11:29:44   32    Male          Canada             No        No   \n",
       "3  2014-08-27 11:29:46   31    Male  United Kingdom            Yes       Yes   \n",
       "4  2014-08-27 11:30:22   31    Male   United States             No        No   \n",
       "\n",
       "  tech_company care_options   seek_help mental_health_consequence  \\\n",
       "0          Yes     Not sure         Yes                        No   \n",
       "1           No           No  Don't know                     Maybe   \n",
       "2          Yes           No          No                        No   \n",
       "3          Yes          Yes          No                       Yes   \n",
       "4          Yes           No  Don't know                        No   \n",
       "\n",
       "  mental_health_interview obs_consequence  \n",
       "0                      No              No  \n",
       "1                      No              No  \n",
       "2                     Yes              No  \n",
       "3                   Maybe             Yes  \n",
       "4                     Yes              No  "
      ]
     },
     "execution_count": 110,
     "metadata": {},
     "output_type": "execute_result"
    }
   ],
   "source": [
    "# Drop useless columns for analytics. Some column might be needed but ignored for now\n",
    "finalDF = geneticsDS.drop(['self_employed','state','work_interfere','no_employees','leave','phys_health_consequence','coworkers','supervisor','phys_health_interview','mental_vs_physical','comments','remote_work','benefits','wellness_program','anonymity'], axis=1)\n",
    "finalDF.head()"
   ]
  },
  {
   "cell_type": "code",
   "execution_count": 348,
   "id": "7ba1bd69-23f2-4f6d-a87e-171f9da29d44",
   "metadata": {},
   "outputs": [
    {
     "data": {
      "text/plain": [
       "1250"
      ]
     },
     "execution_count": 348,
     "metadata": {},
     "output_type": "execute_result"
    }
   ],
   "source": [
    "# Check the rows of the above generic dataset\n",
    "finalDF.shape[0]"
   ]
  },
  {
   "cell_type": "code",
   "execution_count": 350,
   "id": "ec92fb29-f880-4095-bf2a-84818481c2ee",
   "metadata": {},
   "outputs": [
    {
     "name": "stdout",
     "output_type": "stream",
     "text": [
      "<class 'pandas.core.frame.DataFrame'>\n",
      "RangeIndex: 1250 entries, 0 to 1249\n",
      "Data columns (total 12 columns):\n",
      " #   Column                     Non-Null Count  Dtype \n",
      "---  ------                     --------------  ----- \n",
      " 0   Timestamp                  1250 non-null   object\n",
      " 1   Age                        1250 non-null   int64 \n",
      " 2   Gender                     1250 non-null   object\n",
      " 3   Country                    1250 non-null   object\n",
      " 4   family_history             1250 non-null   object\n",
      " 5   treatment                  1250 non-null   object\n",
      " 6   tech_company               1250 non-null   object\n",
      " 7   care_options               1250 non-null   object\n",
      " 8   seek_help                  1250 non-null   object\n",
      " 9   mental_health_consequence  1250 non-null   object\n",
      " 10  mental_health_interview    1250 non-null   object\n",
      " 11  obs_consequence            1250 non-null   object\n",
      "dtypes: int64(1), object(11)\n",
      "memory usage: 117.3+ KB\n"
     ]
    }
   ],
   "source": [
    "# Show all data structure after cleaning unused features\n",
    "finalDF.info()"
   ]
  },
  {
   "cell_type": "code",
   "execution_count": 124,
   "id": "6491fd3a-9bf2-49c8-a00f-81c6ea5eb8c0",
   "metadata": {},
   "outputs": [],
   "source": [
    "# Make a function that will select a probability of family history according to age\n",
    "# Function to select rows based on probability for each Age\n",
    "def select_row_based_on_probability(group):\n",
    "    # Split the group into 'Yes' and 'No' rows\n",
    "    yes_rows = group[group['family_history'] == 'Yes']\n",
    "    no_rows = group[group['family_history'] == 'No']\n",
    "    \n",
    "    # If there are both 'Yes' and 'No' values for the same Age\n",
    "    if not yes_rows.empty and not no_rows.empty:\n",
    "        # Choose between 'Yes' and 'No' with 40% probability for 'Yes' and 60% for 'No'\n",
    "        chosen_value = np.random.choice(['Yes', 'No'], p=[0.5, 0.5])\n",
    "        \n",
    "        if chosen_value == 'Yes':\n",
    "            return yes_rows.iloc[0]  # Keep the first 'Yes' row\n",
    "        else:\n",
    "            return no_rows.iloc[0]  # Keep the first 'No' row\n",
    "    elif not yes_rows.empty:\n",
    "        return yes_rows.iloc[0]  # Keep the first 'Yes' row if no 'No' exists\n",
    "    else:\n",
    "        return no_rows.iloc[0]  # Keep the first 'No' row if no 'Yes' exists"
   ]
  },
  {
   "cell_type": "code",
   "execution_count": 126,
   "id": "7ba34cfc-d723-450b-a5d1-76a0ba4a7939",
   "metadata": {},
   "outputs": [
    {
     "data": {
      "text/html": [
       "<div>\n",
       "<style scoped>\n",
       "    .dataframe tbody tr th:only-of-type {\n",
       "        vertical-align: middle;\n",
       "    }\n",
       "\n",
       "    .dataframe tbody tr th {\n",
       "        vertical-align: top;\n",
       "    }\n",
       "\n",
       "    .dataframe thead th {\n",
       "        text-align: right;\n",
       "    }\n",
       "</style>\n",
       "<table border=\"1\" class=\"dataframe\">\n",
       "  <thead>\n",
       "    <tr style=\"text-align: right;\">\n",
       "      <th></th>\n",
       "      <th>Timestamp</th>\n",
       "      <th>Age</th>\n",
       "      <th>Gender</th>\n",
       "      <th>Country</th>\n",
       "      <th>family_history</th>\n",
       "      <th>treatment</th>\n",
       "      <th>tech_company</th>\n",
       "      <th>care_options</th>\n",
       "      <th>seek_help</th>\n",
       "      <th>mental_health_consequence</th>\n",
       "      <th>mental_health_interview</th>\n",
       "      <th>obs_consequence</th>\n",
       "    </tr>\n",
       "  </thead>\n",
       "  <tbody>\n",
       "    <tr>\n",
       "      <th>0</th>\n",
       "      <td>2014-08-27 11:29:31</td>\n",
       "      <td>37</td>\n",
       "      <td>Female</td>\n",
       "      <td>United States</td>\n",
       "      <td>No</td>\n",
       "      <td>Yes</td>\n",
       "      <td>Yes</td>\n",
       "      <td>Not sure</td>\n",
       "      <td>Yes</td>\n",
       "      <td>No</td>\n",
       "      <td>No</td>\n",
       "      <td>No</td>\n",
       "    </tr>\n",
       "    <tr>\n",
       "      <th>1</th>\n",
       "      <td>2014-08-27 11:29:37</td>\n",
       "      <td>44</td>\n",
       "      <td>M</td>\n",
       "      <td>United States</td>\n",
       "      <td>No</td>\n",
       "      <td>No</td>\n",
       "      <td>No</td>\n",
       "      <td>No</td>\n",
       "      <td>Don't know</td>\n",
       "      <td>Maybe</td>\n",
       "      <td>No</td>\n",
       "      <td>No</td>\n",
       "    </tr>\n",
       "    <tr>\n",
       "      <th>2</th>\n",
       "      <td>2014-08-27 11:29:44</td>\n",
       "      <td>32</td>\n",
       "      <td>Male</td>\n",
       "      <td>Canada</td>\n",
       "      <td>No</td>\n",
       "      <td>No</td>\n",
       "      <td>Yes</td>\n",
       "      <td>No</td>\n",
       "      <td>No</td>\n",
       "      <td>No</td>\n",
       "      <td>Yes</td>\n",
       "      <td>No</td>\n",
       "    </tr>\n",
       "    <tr>\n",
       "      <th>3</th>\n",
       "      <td>2014-08-27 11:29:46</td>\n",
       "      <td>31</td>\n",
       "      <td>Male</td>\n",
       "      <td>United Kingdom</td>\n",
       "      <td>Yes</td>\n",
       "      <td>Yes</td>\n",
       "      <td>Yes</td>\n",
       "      <td>Yes</td>\n",
       "      <td>No</td>\n",
       "      <td>Yes</td>\n",
       "      <td>Maybe</td>\n",
       "      <td>Yes</td>\n",
       "    </tr>\n",
       "    <tr>\n",
       "      <th>4</th>\n",
       "      <td>2014-08-27 11:30:22</td>\n",
       "      <td>31</td>\n",
       "      <td>Male</td>\n",
       "      <td>United States</td>\n",
       "      <td>No</td>\n",
       "      <td>No</td>\n",
       "      <td>Yes</td>\n",
       "      <td>No</td>\n",
       "      <td>Don't know</td>\n",
       "      <td>No</td>\n",
       "      <td>Yes</td>\n",
       "      <td>No</td>\n",
       "    </tr>\n",
       "  </tbody>\n",
       "</table>\n",
       "</div>"
      ],
      "text/plain": [
       "             Timestamp  Age  Gender         Country family_history treatment  \\\n",
       "0  2014-08-27 11:29:31   37  Female   United States             No       Yes   \n",
       "1  2014-08-27 11:29:37   44       M   United States             No        No   \n",
       "2  2014-08-27 11:29:44   32    Male          Canada             No        No   \n",
       "3  2014-08-27 11:29:46   31    Male  United Kingdom            Yes       Yes   \n",
       "4  2014-08-27 11:30:22   31    Male   United States             No        No   \n",
       "\n",
       "  tech_company care_options   seek_help mental_health_consequence  \\\n",
       "0          Yes     Not sure         Yes                        No   \n",
       "1           No           No  Don't know                     Maybe   \n",
       "2          Yes           No          No                        No   \n",
       "3          Yes          Yes          No                       Yes   \n",
       "4          Yes           No  Don't know                        No   \n",
       "\n",
       "  mental_health_interview obs_consequence  \n",
       "0                      No              No  \n",
       "1                      No              No  \n",
       "2                     Yes              No  \n",
       "3                   Maybe             Yes  \n",
       "4                     Yes              No  "
      ]
     },
     "execution_count": 126,
     "metadata": {},
     "output_type": "execute_result"
    }
   ],
   "source": [
    "# Reset index for the table\n",
    "finalDF=finalDF.reset_index(drop=True)\n",
    "finalDF.head()"
   ]
  },
  {
   "cell_type": "code",
   "execution_count": 128,
   "id": "02de732e-2a38-4016-a89a-55028d9a508a",
   "metadata": {},
   "outputs": [
    {
     "data": {
      "text/plain": [
       "Timestamp                    0\n",
       "Age                          0\n",
       "Gender                       0\n",
       "Country                      0\n",
       "family_history               0\n",
       "treatment                    0\n",
       "tech_company                 0\n",
       "care_options                 0\n",
       "seek_help                    0\n",
       "mental_health_consequence    0\n",
       "mental_health_interview      0\n",
       "obs_consequence              0\n",
       "dtype: int64"
      ]
     },
     "execution_count": 128,
     "metadata": {},
     "output_type": "execute_result"
    }
   ],
   "source": [
    "# Check if there is any null or na values in dataset\n",
    "finalDF.isnull().sum()\n",
    "finalDF.isna().sum()"
   ]
  },
  {
   "cell_type": "code",
   "execution_count": 132,
   "id": "ee545549-410a-4703-90c6-eec9d550ee43",
   "metadata": {},
   "outputs": [
    {
     "name": "stderr",
     "output_type": "stream",
     "text": [
      "/var/folders/gw/g4f9j0rj55j7wlpd_183__qm0000gq/T/ipykernel_52045/3927824030.py:2: DeprecationWarning: DataFrameGroupBy.apply operated on the grouping columns. This behavior is deprecated, and in a future version of pandas the grouping columns will be excluded from the operation. Either pass `include_groups=False` to exclude the groupings or explicitly select the grouping columns after groupby to silence this warning.\n",
      "  finalDF_suitable = finalDF.groupby('Age', group_keys=True).apply(select_row_based_on_probability)\n"
     ]
    },
    {
     "data": {
      "text/plain": [
       "44"
      ]
     },
     "execution_count": 132,
     "metadata": {},
     "output_type": "execute_result"
    }
   ],
   "source": [
    "# Apply the function to each group (grouped by 'Age')\n",
    "finalDF_suitable = finalDF.groupby('Age', group_keys=True).apply(select_row_based_on_probability)\n",
    "\n",
    "# Reset index and ensure no redundant columns\n",
    "finalDF_suitable = finalDF_suitable.reset_index(drop=True)\n",
    "finalDF_suitable.shape[0]"
   ]
  },
  {
   "cell_type": "code",
   "execution_count": 10,
   "id": "b883252d-8b6c-49a1-bf8f-1e82951c5310",
   "metadata": {},
   "outputs": [
    {
     "data": {
      "text/plain": [
       "481"
      ]
     },
     "execution_count": 10,
     "metadata": {},
     "output_type": "execute_result"
    }
   ],
   "source": [
    "# Import Dataset of Socialmedia\n",
    "socialMediaDS = pd.read_csv('/Users/rajip/Documents/MIT/Maths and Stats (MDA511)/Assignment2/socialmedia.csv')\n",
    "socialMediaDS.head()\n",
    "socialMediaDS.shape[0]"
   ]
  },
  {
   "cell_type": "code",
   "execution_count": 352,
   "id": "f0820b48-d12a-47e5-a12e-cb73e8cfd6ff",
   "metadata": {},
   "outputs": [
    {
     "name": "stdout",
     "output_type": "stream",
     "text": [
      "<class 'pandas.core.frame.DataFrame'>\n",
      "Index: 480 entries, 0 to 480\n",
      "Data columns (total 12 columns):\n",
      " #   Column              Non-Null Count  Dtype \n",
      "---  ------              --------------  ----- \n",
      " 0   Timestamp           480 non-null    object\n",
      " 1   Age                 480 non-null    int64 \n",
      " 2   Gender              480 non-null    object\n",
      " 3   Relationship        480 non-null    object\n",
      " 4   Occupation          480 non-null    object\n",
      " 5   Social_media_use    480 non-null    object\n",
      " 6   Social_media_type   480 non-null    object\n",
      " 7   Social_media_usage  480 non-null    object\n",
      " 8   Restless            480 non-null    int64 \n",
      " 9   Distracted_rating   480 non-null    int64 \n",
      " 10  Depressed_rating    480 non-null    int64 \n",
      " 11  Sleepless_rating    480 non-null    int64 \n",
      "dtypes: int64(5), object(7)\n",
      "memory usage: 64.9+ KB\n"
     ]
    }
   ],
   "source": [
    "# Check the data structure of Social Media Dataset\n",
    "socialMediaDS.info()"
   ]
  },
  {
   "cell_type": "code",
   "execution_count": 11,
   "id": "5ce77bd7-18e8-4dd7-91d8-47f8c43c8f90",
   "metadata": {},
   "outputs": [
    {
     "data": {
      "text/html": [
       "<div>\n",
       "<style scoped>\n",
       "    .dataframe tbody tr th:only-of-type {\n",
       "        vertical-align: middle;\n",
       "    }\n",
       "\n",
       "    .dataframe tbody tr th {\n",
       "        vertical-align: top;\n",
       "    }\n",
       "\n",
       "    .dataframe thead th {\n",
       "        text-align: right;\n",
       "    }\n",
       "</style>\n",
       "<table border=\"1\" class=\"dataframe\">\n",
       "  <thead>\n",
       "    <tr style=\"text-align: right;\">\n",
       "      <th></th>\n",
       "      <th>Timestamp</th>\n",
       "      <th>Age</th>\n",
       "      <th>Gender</th>\n",
       "      <th>Relationship</th>\n",
       "      <th>Occupation</th>\n",
       "      <th>5. What type of organizations are you affiliated with?</th>\n",
       "      <th>Social_media_use</th>\n",
       "      <th>Social_media_type</th>\n",
       "      <th>Social_media_usage</th>\n",
       "      <th>9. How often do you find yourself using Social media without a specific purpose?</th>\n",
       "      <th>...</th>\n",
       "      <th>Restless</th>\n",
       "      <th>Distracted_rating</th>\n",
       "      <th>13. On a scale of 1 to 5, how much are you bothered by worries?</th>\n",
       "      <th>14. Do you find it difficult to concentrate on things?</th>\n",
       "      <th>15. On a scale of 1-5, how often do you compare yourself to other successful people through the use of social media?</th>\n",
       "      <th>16. Following the previous question, how do you feel about these comparisons, generally speaking?</th>\n",
       "      <th>17. How often do you look to seek validation from features of social media?</th>\n",
       "      <th>Depressed_rating</th>\n",
       "      <th>19. On a scale of 1 to 5, how frequently does your interest in daily activities fluctuate?</th>\n",
       "      <th>Sleepless_rating</th>\n",
       "    </tr>\n",
       "  </thead>\n",
       "  <tbody>\n",
       "    <tr>\n",
       "      <th>0</th>\n",
       "      <td>4/18/2022 19:18:47</td>\n",
       "      <td>21.0</td>\n",
       "      <td>Male</td>\n",
       "      <td>In a relationship</td>\n",
       "      <td>University Student</td>\n",
       "      <td>University</td>\n",
       "      <td>Yes</td>\n",
       "      <td>Facebook, Twitter, Instagram, YouTube, Discord...</td>\n",
       "      <td>Between 2 and 3 hours</td>\n",
       "      <td>5</td>\n",
       "      <td>...</td>\n",
       "      <td>2</td>\n",
       "      <td>5</td>\n",
       "      <td>2</td>\n",
       "      <td>5</td>\n",
       "      <td>2</td>\n",
       "      <td>3</td>\n",
       "      <td>2</td>\n",
       "      <td>5</td>\n",
       "      <td>4</td>\n",
       "      <td>5</td>\n",
       "    </tr>\n",
       "    <tr>\n",
       "      <th>1</th>\n",
       "      <td>4/18/2022 19:19:28</td>\n",
       "      <td>21.0</td>\n",
       "      <td>Female</td>\n",
       "      <td>Single</td>\n",
       "      <td>University Student</td>\n",
       "      <td>University</td>\n",
       "      <td>Yes</td>\n",
       "      <td>Facebook, Twitter, Instagram, YouTube, Discord...</td>\n",
       "      <td>More than 5 hours</td>\n",
       "      <td>4</td>\n",
       "      <td>...</td>\n",
       "      <td>2</td>\n",
       "      <td>4</td>\n",
       "      <td>5</td>\n",
       "      <td>4</td>\n",
       "      <td>5</td>\n",
       "      <td>1</td>\n",
       "      <td>1</td>\n",
       "      <td>5</td>\n",
       "      <td>4</td>\n",
       "      <td>5</td>\n",
       "    </tr>\n",
       "    <tr>\n",
       "      <th>2</th>\n",
       "      <td>4/18/2022 19:25:59</td>\n",
       "      <td>21.0</td>\n",
       "      <td>Female</td>\n",
       "      <td>Single</td>\n",
       "      <td>University Student</td>\n",
       "      <td>University</td>\n",
       "      <td>Yes</td>\n",
       "      <td>Facebook, Instagram, YouTube, Pinterest</td>\n",
       "      <td>Between 3 and 4 hours</td>\n",
       "      <td>3</td>\n",
       "      <td>...</td>\n",
       "      <td>1</td>\n",
       "      <td>2</td>\n",
       "      <td>5</td>\n",
       "      <td>4</td>\n",
       "      <td>3</td>\n",
       "      <td>3</td>\n",
       "      <td>1</td>\n",
       "      <td>4</td>\n",
       "      <td>2</td>\n",
       "      <td>5</td>\n",
       "    </tr>\n",
       "    <tr>\n",
       "      <th>3</th>\n",
       "      <td>4/18/2022 19:29:43</td>\n",
       "      <td>21.0</td>\n",
       "      <td>Female</td>\n",
       "      <td>Single</td>\n",
       "      <td>University Student</td>\n",
       "      <td>University</td>\n",
       "      <td>Yes</td>\n",
       "      <td>Facebook, Instagram</td>\n",
       "      <td>More than 5 hours</td>\n",
       "      <td>4</td>\n",
       "      <td>...</td>\n",
       "      <td>1</td>\n",
       "      <td>3</td>\n",
       "      <td>5</td>\n",
       "      <td>3</td>\n",
       "      <td>5</td>\n",
       "      <td>1</td>\n",
       "      <td>2</td>\n",
       "      <td>4</td>\n",
       "      <td>3</td>\n",
       "      <td>2</td>\n",
       "    </tr>\n",
       "    <tr>\n",
       "      <th>4</th>\n",
       "      <td>4/18/2022 19:33:31</td>\n",
       "      <td>21.0</td>\n",
       "      <td>Female</td>\n",
       "      <td>Single</td>\n",
       "      <td>University Student</td>\n",
       "      <td>University</td>\n",
       "      <td>Yes</td>\n",
       "      <td>Facebook, Instagram, YouTube</td>\n",
       "      <td>Between 2 and 3 hours</td>\n",
       "      <td>3</td>\n",
       "      <td>...</td>\n",
       "      <td>4</td>\n",
       "      <td>4</td>\n",
       "      <td>5</td>\n",
       "      <td>5</td>\n",
       "      <td>3</td>\n",
       "      <td>3</td>\n",
       "      <td>3</td>\n",
       "      <td>4</td>\n",
       "      <td>4</td>\n",
       "      <td>1</td>\n",
       "    </tr>\n",
       "  </tbody>\n",
       "</table>\n",
       "<p>5 rows × 21 columns</p>\n",
       "</div>"
      ],
      "text/plain": [
       "            Timestamp   Age  Gender       Relationship          Occupation  \\\n",
       "0  4/18/2022 19:18:47  21.0    Male  In a relationship  University Student   \n",
       "1  4/18/2022 19:19:28  21.0  Female             Single  University Student   \n",
       "2  4/18/2022 19:25:59  21.0  Female             Single  University Student   \n",
       "3  4/18/2022 19:29:43  21.0  Female             Single  University Student   \n",
       "4  4/18/2022 19:33:31  21.0  Female             Single  University Student   \n",
       "\n",
       "  5. What type of organizations are you affiliated with? Social_media_use  \\\n",
       "0                                         University                  Yes   \n",
       "1                                         University                  Yes   \n",
       "2                                         University                  Yes   \n",
       "3                                         University                  Yes   \n",
       "4                                         University                  Yes   \n",
       "\n",
       "                                   Social_media_type     Social_media_usage  \\\n",
       "0  Facebook, Twitter, Instagram, YouTube, Discord...  Between 2 and 3 hours   \n",
       "1  Facebook, Twitter, Instagram, YouTube, Discord...      More than 5 hours   \n",
       "2            Facebook, Instagram, YouTube, Pinterest  Between 3 and 4 hours   \n",
       "3                                Facebook, Instagram      More than 5 hours   \n",
       "4                       Facebook, Instagram, YouTube  Between 2 and 3 hours   \n",
       "\n",
       "   9. How often do you find yourself using Social media without a specific purpose?  \\\n",
       "0                                                  5                                  \n",
       "1                                                  4                                  \n",
       "2                                                  3                                  \n",
       "3                                                  4                                  \n",
       "4                                                  3                                  \n",
       "\n",
       "   ...  Restless  Distracted_rating  \\\n",
       "0  ...         2                  5   \n",
       "1  ...         2                  4   \n",
       "2  ...         1                  2   \n",
       "3  ...         1                  3   \n",
       "4  ...         4                  4   \n",
       "\n",
       "   13. On a scale of 1 to 5, how much are you bothered by worries?  \\\n",
       "0                                                  2                 \n",
       "1                                                  5                 \n",
       "2                                                  5                 \n",
       "3                                                  5                 \n",
       "4                                                  5                 \n",
       "\n",
       "   14. Do you find it difficult to concentrate on things?  \\\n",
       "0                                                  5        \n",
       "1                                                  4        \n",
       "2                                                  4        \n",
       "3                                                  3        \n",
       "4                                                  5        \n",
       "\n",
       "   15. On a scale of 1-5, how often do you compare yourself to other successful people through the use of social media?  \\\n",
       "0                                                  2                                                                      \n",
       "1                                                  5                                                                      \n",
       "2                                                  3                                                                      \n",
       "3                                                  5                                                                      \n",
       "4                                                  3                                                                      \n",
       "\n",
       "   16. Following the previous question, how do you feel about these comparisons, generally speaking?  \\\n",
       "0                                                  3                                                   \n",
       "1                                                  1                                                   \n",
       "2                                                  3                                                   \n",
       "3                                                  1                                                   \n",
       "4                                                  3                                                   \n",
       "\n",
       "   17. How often do you look to seek validation from features of social media?  \\\n",
       "0                                                  2                             \n",
       "1                                                  1                             \n",
       "2                                                  1                             \n",
       "3                                                  2                             \n",
       "4                                                  3                             \n",
       "\n",
       "   Depressed_rating  \\\n",
       "0                 5   \n",
       "1                 5   \n",
       "2                 4   \n",
       "3                 4   \n",
       "4                 4   \n",
       "\n",
       "   19. On a scale of 1 to 5, how frequently does your interest in daily activities fluctuate?  \\\n",
       "0                                                  4                                            \n",
       "1                                                  4                                            \n",
       "2                                                  2                                            \n",
       "3                                                  3                                            \n",
       "4                                                  4                                            \n",
       "\n",
       "   Sleepless_rating  \n",
       "0                 5  \n",
       "1                 5  \n",
       "2                 5  \n",
       "3                 2  \n",
       "4                 1  \n",
       "\n",
       "[5 rows x 21 columns]"
      ]
     },
     "execution_count": 11,
     "metadata": {},
     "output_type": "execute_result"
    }
   ],
   "source": [
    "# Rename the feature to technical words\n",
    "column_dict = {\n",
    "    '1. What is your age?':'Age',\n",
    "    '2. Gender':'Gender',\n",
    "    '3. Relationship Status':'Relationship',\n",
    "    '4. Occupation Status':'Occupation',\n",
    "    '6. Do you use social media?':'Social_media_use',\n",
    "    '7. What social media platforms do you commonly use?':'Social_media_type',\n",
    "    '8. What is the average time you spend on social media every day?':'Social_media_usage',\n",
    "    \"11. Do you feel restless if you haven't used Social media in a while?\":'Restless',\n",
    "    '12. On a scale of 1 to 5, how easily distracted are you?':'Distracted_rating',\n",
    "    '20. On a scale of 1 to 5, how often do you face issues regarding sleep?':'Sleepless_rating',\n",
    "    \"18. How often do you feel depressed or down?\":'Depressed_rating'\n",
    "    \n",
    "}\n",
    "socialMediaDS = socialMediaDS.rename(columns=column_dict)\n",
    "socialMediaDS.head()\n"
   ]
  },
  {
   "cell_type": "code",
   "execution_count": 12,
   "id": "67524c6d-f0bb-4aa4-b06b-a552f71cfc2e",
   "metadata": {},
   "outputs": [],
   "source": [
    "# Drop the unused or unecessary features that are not actually related to depression or has other feature relevant to it\n",
    "socialMediaDS = socialMediaDS.drop([\n",
    "    '5. What type of organizations are you affiliated with?',\n",
    "    \"13. On a scale of 1 to 5, how much are you bothered by worries?\",\n",
    "    \"19. On a scale of 1 to 5, how frequently does your interest in daily activities fluctuate?\",\n",
    "    \"10. How often do you get distracted by Social media when you are busy doing something?\",\n",
    "    \"15. On a scale of 1-5, how often do you compare yourself to other successful people through the use of social media?\",\n",
    "    \"16. Following the previous question, how do you feel about these comparisons, generally speaking?\",\n",
    "    \"17. How often do you look to seek validation from features of social media?\",\n",
    "    \"9. How often do you find yourself using Social media without a specific purpose?\",\n",
    "    \"14. Do you find it difficult to concentrate on things?\"\n",
    "],axis=1)\n"
   ]
  },
  {
   "cell_type": "code",
   "execution_count": 13,
   "id": "084e73d3-a451-4ee5-9943-91e9ba799670",
   "metadata": {},
   "outputs": [],
   "source": [
    "# Filter data between age 12 to 70 because there is an outlier for age which we will remove from the dataset\n",
    "socialMediaDS = socialMediaDS[(socialMediaDS['Age']>12) & (socialMediaDS['Age']<70)]"
   ]
  },
  {
   "cell_type": "code",
   "execution_count": 14,
   "id": "e225820f-5399-4fa1-8d9b-6b2466ffe9fe",
   "metadata": {},
   "outputs": [
    {
     "data": {
      "text/plain": [
       "Age\n",
       "False    470\n",
       "True      10\n",
       "Name: count, dtype: int64"
      ]
     },
     "execution_count": 14,
     "metadata": {},
     "output_type": "execute_result"
    }
   ],
   "source": [
    "# Make sure there are datas that are higher than age 50\n",
    "(socialMediaDS['Age']>50).value_counts()"
   ]
  },
  {
   "cell_type": "code",
   "execution_count": 354,
   "id": "24d23c53-7def-4aa2-9604-acf6890a89da",
   "metadata": {},
   "outputs": [
    {
     "name": "stdout",
     "output_type": "stream",
     "text": [
      "['Male' 'Others' 'Female']\n",
      "['Male' 'Others' 'Female']\n"
     ]
    }
   ],
   "source": [
    "# Transformation of Gender data into Male, Female and Others. The data contains other values are well so we will be transforming these data to others.\n",
    "print(socialMediaDS['Gender'].unique())\n",
    "socialMediaDS['Gender'] = socialMediaDS['Gender'].str.lower().map({'male':'Male','Nonbinary':'Male','female':'Female'}).fillna('Others')\n",
    "print(socialMediaDS['Gender'].unique())"
   ]
  },
  {
   "cell_type": "code",
   "execution_count": 16,
   "id": "6a4a6fa8-a221-4551-988d-c39232d8dba3",
   "metadata": {},
   "outputs": [],
   "source": [
    "# The dataset contains more of female data so we will be transforming the gender of some female to male.\n",
    "male_indices = socialMediaDS[socialMediaDS['Gender'] == 'Female'].head(25).index\n",
    "socialMediaDS.loc[male_indices, 'Gender'] = 'Male'"
   ]
  },
  {
   "cell_type": "code",
   "execution_count": 17,
   "id": "d8ca9572-c58f-444c-beb3-acd5c46903fa",
   "metadata": {},
   "outputs": [
    {
     "name": "stdout",
     "output_type": "stream",
     "text": [
      "Gender\n",
      "Male      236\n",
      "Female    237\n",
      "Others      7\n",
      "Name: count, dtype: int64\n"
     ]
    }
   ],
   "source": [
    "# Aggregrating number of genders in dataset\n",
    "count = socialMediaDS['Gender'].value_counts().loc[['Male', 'Female','Others']]\n",
    "print(count)"
   ]
  },
  {
   "cell_type": "code",
   "execution_count": 18,
   "id": "77e9f818-8db6-4255-95f1-ea4cac5733fe",
   "metadata": {},
   "outputs": [
    {
     "data": {
      "text/html": [
       "<div>\n",
       "<style scoped>\n",
       "    .dataframe tbody tr th:only-of-type {\n",
       "        vertical-align: middle;\n",
       "    }\n",
       "\n",
       "    .dataframe tbody tr th {\n",
       "        vertical-align: top;\n",
       "    }\n",
       "\n",
       "    .dataframe thead th {\n",
       "        text-align: right;\n",
       "    }\n",
       "</style>\n",
       "<table border=\"1\" class=\"dataframe\">\n",
       "  <thead>\n",
       "    <tr style=\"text-align: right;\">\n",
       "      <th></th>\n",
       "      <th>Age</th>\n",
       "      <th>Restless</th>\n",
       "      <th>Distracted_rating</th>\n",
       "      <th>Depressed_rating</th>\n",
       "      <th>Sleepless_rating</th>\n",
       "    </tr>\n",
       "  </thead>\n",
       "  <tbody>\n",
       "    <tr>\n",
       "      <th>count</th>\n",
       "      <td>480.000000</td>\n",
       "      <td>480.000000</td>\n",
       "      <td>480.000000</td>\n",
       "      <td>480.000000</td>\n",
       "      <td>480.000000</td>\n",
       "    </tr>\n",
       "    <tr>\n",
       "      <th>mean</th>\n",
       "      <td>26.001458</td>\n",
       "      <td>2.585417</td>\n",
       "      <td>3.347917</td>\n",
       "      <td>3.252083</td>\n",
       "      <td>3.197917</td>\n",
       "    </tr>\n",
       "    <tr>\n",
       "      <th>std</th>\n",
       "      <td>9.471690</td>\n",
       "      <td>1.256713</td>\n",
       "      <td>1.176402</td>\n",
       "      <td>1.311979</td>\n",
       "      <td>1.460830</td>\n",
       "    </tr>\n",
       "    <tr>\n",
       "      <th>min</th>\n",
       "      <td>13.000000</td>\n",
       "      <td>1.000000</td>\n",
       "      <td>1.000000</td>\n",
       "      <td>1.000000</td>\n",
       "      <td>1.000000</td>\n",
       "    </tr>\n",
       "    <tr>\n",
       "      <th>25%</th>\n",
       "      <td>21.000000</td>\n",
       "      <td>2.000000</td>\n",
       "      <td>3.000000</td>\n",
       "      <td>2.000000</td>\n",
       "      <td>2.000000</td>\n",
       "    </tr>\n",
       "    <tr>\n",
       "      <th>50%</th>\n",
       "      <td>22.000000</td>\n",
       "      <td>2.000000</td>\n",
       "      <td>3.000000</td>\n",
       "      <td>3.000000</td>\n",
       "      <td>3.000000</td>\n",
       "    </tr>\n",
       "    <tr>\n",
       "      <th>75%</th>\n",
       "      <td>26.000000</td>\n",
       "      <td>3.000000</td>\n",
       "      <td>4.000000</td>\n",
       "      <td>4.000000</td>\n",
       "      <td>5.000000</td>\n",
       "    </tr>\n",
       "    <tr>\n",
       "      <th>max</th>\n",
       "      <td>69.000000</td>\n",
       "      <td>5.000000</td>\n",
       "      <td>5.000000</td>\n",
       "      <td>5.000000</td>\n",
       "      <td>5.000000</td>\n",
       "    </tr>\n",
       "  </tbody>\n",
       "</table>\n",
       "</div>"
      ],
      "text/plain": [
       "              Age    Restless  Distracted_rating  Depressed_rating  \\\n",
       "count  480.000000  480.000000         480.000000        480.000000   \n",
       "mean    26.001458    2.585417           3.347917          3.252083   \n",
       "std      9.471690    1.256713           1.176402          1.311979   \n",
       "min     13.000000    1.000000           1.000000          1.000000   \n",
       "25%     21.000000    2.000000           3.000000          2.000000   \n",
       "50%     22.000000    2.000000           3.000000          3.000000   \n",
       "75%     26.000000    3.000000           4.000000          4.000000   \n",
       "max     69.000000    5.000000           5.000000          5.000000   \n",
       "\n",
       "       Sleepless_rating  \n",
       "count        480.000000  \n",
       "mean           3.197917  \n",
       "std            1.460830  \n",
       "min            1.000000  \n",
       "25%            2.000000  \n",
       "50%            3.000000  \n",
       "75%            5.000000  \n",
       "max            5.000000  "
      ]
     },
     "execution_count": 18,
     "metadata": {},
     "output_type": "execute_result"
    }
   ],
   "source": [
    "# Describing the dataset of socialmedia\n",
    "socialMediaDS.describe()"
   ]
  },
  {
   "cell_type": "code",
   "execution_count": 19,
   "id": "84c0ea62-47fe-4681-93ee-e011fdd3461f",
   "metadata": {},
   "outputs": [
    {
     "data": {
      "text/plain": [
       "Timestamp             0\n",
       "Age                   0\n",
       "Gender                0\n",
       "Relationship          0\n",
       "Occupation            0\n",
       "Social_media_use      0\n",
       "Social_media_type     0\n",
       "Social_media_usage    0\n",
       "Restless              0\n",
       "Distracted_rating     0\n",
       "Depressed_rating      0\n",
       "Sleepless_rating      0\n",
       "dtype: int64"
      ]
     },
     "execution_count": 19,
     "metadata": {},
     "output_type": "execute_result"
    }
   ],
   "source": [
    "# Cbecking if there is na or null values in the dataset\n",
    "socialMediaDS.isnull().sum()\n",
    "socialMediaDS.isna().sum()"
   ]
  },
  {
   "cell_type": "code",
   "execution_count": 20,
   "id": "18cdadef-33f1-4c5d-929d-b0aa0e5233a4",
   "metadata": {},
   "outputs": [
    {
     "data": {
      "text/plain": [
       "array(['In a relationship', 'Single', 'Married', 'Divorced'], dtype=object)"
      ]
     },
     "execution_count": 20,
     "metadata": {},
     "output_type": "execute_result"
    }
   ],
   "source": [
    "# Exploring different type of Relationship status of the dataset\n",
    "socialMediaDS['Relationship'].unique()"
   ]
  },
  {
   "cell_type": "code",
   "execution_count": 22,
   "id": "5788a7d3-4abc-405f-9125-a5fbd87f1053",
   "metadata": {},
   "outputs": [],
   "source": [
    "# Transforming data of age from float value to integer so that we can combine or merge the fata\n",
    "socialMediaDS['Age'] = socialMediaDS['Age'].astype(int)"
   ]
  },
  {
   "cell_type": "code",
   "execution_count": 140,
   "id": "fa9b29f2-7068-43cd-90e0-8114eaf4d0a5",
   "metadata": {},
   "outputs": [
    {
     "name": "stdout",
     "output_type": "stream",
     "text": [
      "459 13\n"
     ]
    }
   ],
   "source": [
    "# Merge two datasets using age\n",
    "merged_df = pd.merge(finalDF_suitable[['Age', 'family_history']],socialMediaDS, on='Age',how='inner')\n",
    "# Checking the columns and number of rows in dataset\n",
    "mrows = merged_df.shape[0]\n",
    "mcols = merged_df.shape[1]\n",
    "print(mrows,mcols)"
   ]
  },
  {
   "cell_type": "code",
   "execution_count": 138,
   "id": "1f848420-7eb3-4f59-bcbc-42437ff1a298",
   "metadata": {},
   "outputs": [
    {
     "data": {
      "text/plain": [
       "Age                   0\n",
       "family_history        0\n",
       "Timestamp             0\n",
       "Gender                0\n",
       "Relationship          0\n",
       "Occupation            0\n",
       "Social_media_use      0\n",
       "Social_media_type     0\n",
       "Social_media_usage    0\n",
       "Restless              0\n",
       "Distracted_rating     0\n",
       "Depressed_rating      0\n",
       "Sleepless_rating      0\n",
       "dtype: int64"
      ]
     },
     "execution_count": 138,
     "metadata": {},
     "output_type": "execute_result"
    }
   ],
   "source": [
    "# Validating the final dataset by checking any na or null values\n",
    "merged_df.isnull().sum()\n",
    "merged_df.isna().sum()"
   ]
  },
  {
   "cell_type": "code",
   "execution_count": 142,
   "id": "b5c7180f-334f-418c-afcc-d40a7d0756fd",
   "metadata": {},
   "outputs": [
    {
     "name": "stdout",
     "output_type": "stream",
     "text": [
      "family_history\n",
      "No     149\n",
      "Yes    310\n",
      "Name: family_history, dtype: int64\n"
     ]
    }
   ],
   "source": [
    "# Count of people according to type of family history\n",
    "counts = merged_df.groupby('family_history')['family_history'].count()\n",
    "print(counts)"
   ]
  },
  {
   "cell_type": "code",
   "execution_count": 144,
   "id": "20d98c23-d916-4081-8921-4e750b096b47",
   "metadata": {},
   "outputs": [
    {
     "data": {
      "text/plain": [
       "Age\n",
       "False    451\n",
       "True       8\n",
       "Name: count, dtype: int64"
      ]
     },
     "execution_count": 144,
     "metadata": {},
     "output_type": "execute_result"
    }
   ],
   "source": [
    "# Confirming the dataset has data of people which has higher age than 50\n",
    "merged_df.columns\n",
    "(merged_df['Age']>50).value_counts()"
   ]
  },
  {
   "cell_type": "code",
   "execution_count": 146,
   "id": "973d21f1-65f0-4173-9984-a1a3d4f00831",
   "metadata": {},
   "outputs": [
    {
     "name": "stdout",
     "output_type": "stream",
     "text": [
      "False\n"
     ]
    }
   ],
   "source": [
    "# Writing a function to derive trauma from the data in dataset such as family_history, restless, Sleepless_rating\n",
    "def calculateChildhoodTrauma(row):\n",
    "    random_value = np.random.rand()\n",
    "    if(random_value > 0.5):\n",
    "        threshold =  (row['Restless']>3 and row['Sleepless_rating']>3)  or row['family_history']=='Yes'\n",
    "        return threshold\n",
    "    else:\n",
    "        return False\n",
    "\n",
    "print(calculateChildhoodTrauma(merged_df.iloc[0]))"
   ]
  },
  {
   "cell_type": "code",
   "execution_count": 148,
   "id": "0c419b21-8d84-4053-a976-8801fe675da0",
   "metadata": {},
   "outputs": [],
   "source": [
    "# Applying new feature which is Trauma in dataset using the above function\n",
    "merged_df['Trauma'] = merged_df.apply(calculateChildhoodTrauma, axis=1)"
   ]
  },
  {
   "cell_type": "code",
   "execution_count": 150,
   "id": "e6c070b9-2cfc-4b7a-8386-3b59d917dce2",
   "metadata": {},
   "outputs": [
    {
     "data": {
      "text/plain": [
       "Age                   0\n",
       "family_history        0\n",
       "Timestamp             0\n",
       "Gender                0\n",
       "Relationship          0\n",
       "Occupation            0\n",
       "Social_media_use      0\n",
       "Social_media_type     0\n",
       "Social_media_usage    0\n",
       "Restless              0\n",
       "Distracted_rating     0\n",
       "Depressed_rating      0\n",
       "Sleepless_rating      0\n",
       "Trauma                0\n",
       "dtype: int64"
      ]
     },
     "execution_count": 150,
     "metadata": {},
     "output_type": "execute_result"
    }
   ],
   "source": [
    "# Making sure there is no na or null values after merge\n",
    "merged_df.isna().sum()\n",
    "merged_df.isnull().sum()"
   ]
  },
  {
   "cell_type": "code",
   "execution_count": 154,
   "id": "ef399f0c-87c8-4525-86ba-959bad786d16",
   "metadata": {},
   "outputs": [
    {
     "name": "stdout",
     "output_type": "stream",
     "text": [
      "Social_media_use\n",
      "No       3\n",
      "Yes    456\n",
      "Name: Social_media_use, dtype: int64\n"
     ]
    }
   ],
   "source": [
    "# Counting the number of users that are using social media\n",
    "counts = merged_df.groupby('Social_media_use')['Social_media_use'].count()\n",
    "print(counts)"
   ]
  },
  {
   "cell_type": "code",
   "execution_count": 156,
   "id": "08d34a72-608c-43d4-97b8-9e5a2e1ad014",
   "metadata": {},
   "outputs": [
    {
     "data": {
      "text/plain": [
       "Trauma\n",
       "False    301\n",
       "True     158\n",
       "Name: Trauma, dtype: int64"
      ]
     },
     "execution_count": 156,
     "metadata": {},
     "output_type": "execute_result"
    }
   ],
   "source": [
    "# Counting the number of users that has trauma\n",
    "merged_df.groupby('Trauma')['Trauma'].count()"
   ]
  },
  {
   "cell_type": "code",
   "execution_count": 33,
   "id": "1b73f7d1-5266-4886-9a88-42eea095b310",
   "metadata": {},
   "outputs": [],
   "source": [
    "# Importing the dataset for addiction\n",
    "addictionDS = pd.read_csv('/Users/rajip/Documents/MIT/Maths and Stats (MDA511)/Assignment2/addiction.csv')"
   ]
  },
  {
   "cell_type": "code",
   "execution_count": 158,
   "id": "04056939-a073-4b02-b25e-54a023dc851d",
   "metadata": {},
   "outputs": [],
   "source": [
    "# Defining functions to derive addiction risk leve from two datasets addiction and the merged dataset\n",
    "# Define heuristic rules for addiction risk for main dataset\n",
    "def derive_addiction_level(row):\n",
    "    if ((row[\"Sleepless_rating\"] > 3) or (row['Restless']==1)) and row[\"Trauma\"] == True and row[\"Depressed_rating\"] > 3:\n",
    "        return \"Likely Addicted\"\n",
    "    elif row[\"Distracted_rating\"] > 3 and row[\"Depressed_rating\"] > 3:\n",
    "        return \"At Risk\"\n",
    "    else:\n",
    "        return \"Low Risk\"\n",
    "\n",
    "# Derive Risk_Level based on existing columns for addiction dataset\n",
    "def derive_risk_level(row):\n",
    "    if row[\"Addiction_Class\"] == \"Yes\":\n",
    "        return \"Likely Addicted\"\n",
    "    elif row[\"Experimentation\"] == \"Yes\" and row[\"Social_Isolation\"] == \"Yes\":\n",
    "        return \"At Risk\"\n",
    "    else:\n",
    "        return \"Low Risk\""
   ]
  },
  {
   "cell_type": "code",
   "execution_count": 160,
   "id": "d6c8b0ba-91a3-43ef-8125-882a2ae7448c",
   "metadata": {},
   "outputs": [
    {
     "data": {
      "text/plain": [
       "Addiction_Risk\n",
       "At Risk             94\n",
       "Likely Addicted     50\n",
       "Low Risk           315\n",
       "Name: Addiction_Risk, dtype: int64"
      ]
     },
     "execution_count": 160,
     "metadata": {},
     "output_type": "execute_result"
    }
   ],
   "source": [
    "# Generating or Deriving the Addiction_Risk feature in merged dataset\n",
    "merged_df['Addiction_Risk'] = merged_df.apply(derive_addiction_level, axis=1)\n",
    "merged_df.head(5)\n",
    "merged_df.groupby('Addiction_Risk')['Addiction_Risk'].count()"
   ]
  },
  {
   "cell_type": "code",
   "execution_count": 162,
   "id": "97a7a24a-7207-4110-94ae-7717e57a45e3",
   "metadata": {},
   "outputs": [
    {
     "data": {
      "text/plain": [
       "Addiction_Risk\n",
       "At Risk             5243\n",
       "Likely Addicted     9119\n",
       "Low Risk           15710\n",
       "Name: Addiction_Risk, dtype: int64"
      ]
     },
     "execution_count": 162,
     "metadata": {},
     "output_type": "execute_result"
    }
   ],
   "source": [
    "# Counting the number of risks in addiction Dataset\n",
    "addictionDS['Addiction_Risk'] =  addictionDS.apply(derive_risk_level, axis=1)\n",
    "addictionDS.groupby('Addiction_Risk')['Addiction_Risk'].count()"
   ]
  },
  {
   "cell_type": "code",
   "execution_count": 164,
   "id": "afaf6154-248c-4c0f-8810-be845e7376bf",
   "metadata": {},
   "outputs": [],
   "source": [
    "# Dropping all na values from the dataset\n",
    "addictionDS = addictionDS.dropna()"
   ]
  },
  {
   "cell_type": "code",
   "execution_count": 166,
   "id": "05c7649c-b63d-427a-92f5-19fc583e3e1e",
   "metadata": {},
   "outputs": [
    {
     "data": {
      "text/plain": [
       "Experimentation                       0\n",
       "Academic_Performance_Decline          0\n",
       "Social_Isolation                      0\n",
       "Financial_Issues                      0\n",
       "Physical_Mental_Health_Problems       0\n",
       "Legal_Consequences                    0\n",
       "Relationship_Strain                   0\n",
       "Risk_Taking_Behavior                  0\n",
       "Withdrawal_Symptoms                   0\n",
       "Denial_and_Resistance_to_Treatment    0\n",
       "Addiction_Class                       0\n",
       "Addiction_Risk                        0\n",
       "dtype: int64"
      ]
     },
     "execution_count": 166,
     "metadata": {},
     "output_type": "execute_result"
    }
   ],
   "source": [
    "# Checking if there are any row or data that has null or na values\n",
    "addictionDS.isnull().sum()\n",
    "addictionDS.shape[1]\n",
    "addictionDS.isna().sum()"
   ]
  },
  {
   "cell_type": "code",
   "execution_count": 168,
   "id": "b8537937-99af-42a9-a7b5-4269ce014dbf",
   "metadata": {},
   "outputs": [
    {
     "data": {
      "text/html": [
       "<div>\n",
       "<style scoped>\n",
       "    .dataframe tbody tr th:only-of-type {\n",
       "        vertical-align: middle;\n",
       "    }\n",
       "\n",
       "    .dataframe tbody tr th {\n",
       "        vertical-align: top;\n",
       "    }\n",
       "\n",
       "    .dataframe thead th {\n",
       "        text-align: right;\n",
       "    }\n",
       "</style>\n",
       "<table border=\"1\" class=\"dataframe\">\n",
       "  <thead>\n",
       "    <tr style=\"text-align: right;\">\n",
       "      <th></th>\n",
       "      <th>Age</th>\n",
       "      <th>family_history</th>\n",
       "      <th>Timestamp</th>\n",
       "      <th>Gender</th>\n",
       "      <th>Relationship</th>\n",
       "      <th>Occupation</th>\n",
       "      <th>Social_media_use</th>\n",
       "      <th>Social_media_type</th>\n",
       "      <th>Social_media_usage</th>\n",
       "      <th>Restless</th>\n",
       "      <th>Distracted_rating</th>\n",
       "      <th>Depressed_rating</th>\n",
       "      <th>Sleepless_rating</th>\n",
       "      <th>Trauma</th>\n",
       "      <th>Addiction_Risk</th>\n",
       "      <th>Addiction_Class</th>\n",
       "      <th>Social_Isolation</th>\n",
       "      <th>Withdrawal_Symptoms</th>\n",
       "    </tr>\n",
       "  </thead>\n",
       "  <tbody>\n",
       "    <tr>\n",
       "      <th>0</th>\n",
       "      <td>18</td>\n",
       "      <td>No</td>\n",
       "      <td>4/18/2022 20:53:37</td>\n",
       "      <td>Male</td>\n",
       "      <td>Single</td>\n",
       "      <td>School Student</td>\n",
       "      <td>Yes</td>\n",
       "      <td>Facebook, Instagram, YouTube, Discord, Pinterest</td>\n",
       "      <td>Between 2 and 3 hours</td>\n",
       "      <td>3</td>\n",
       "      <td>3</td>\n",
       "      <td>3</td>\n",
       "      <td>2</td>\n",
       "      <td>False</td>\n",
       "      <td>Low Risk</td>\n",
       "      <td>No</td>\n",
       "      <td>No</td>\n",
       "      <td>No</td>\n",
       "    </tr>\n",
       "    <tr>\n",
       "      <th>1</th>\n",
       "      <td>18</td>\n",
       "      <td>No</td>\n",
       "      <td>4/18/2022 23:12:03</td>\n",
       "      <td>Female</td>\n",
       "      <td>Single</td>\n",
       "      <td>University Student</td>\n",
       "      <td>Yes</td>\n",
       "      <td>Facebook, Instagram, YouTube, Pinterest</td>\n",
       "      <td>More than 5 hours</td>\n",
       "      <td>3</td>\n",
       "      <td>5</td>\n",
       "      <td>5</td>\n",
       "      <td>5</td>\n",
       "      <td>False</td>\n",
       "      <td>At Risk</td>\n",
       "      <td>No</td>\n",
       "      <td>Yes</td>\n",
       "      <td>No</td>\n",
       "    </tr>\n",
       "    <tr>\n",
       "      <th>2</th>\n",
       "      <td>18</td>\n",
       "      <td>No</td>\n",
       "      <td>4/19/2022 0:10:02</td>\n",
       "      <td>Others</td>\n",
       "      <td>Single</td>\n",
       "      <td>School Student</td>\n",
       "      <td>Yes</td>\n",
       "      <td>Twitter, Instagram, YouTube, Reddit, TikTok</td>\n",
       "      <td>Between 2 and 3 hours</td>\n",
       "      <td>2</td>\n",
       "      <td>3</td>\n",
       "      <td>4</td>\n",
       "      <td>4</td>\n",
       "      <td>False</td>\n",
       "      <td>Low Risk</td>\n",
       "      <td>No</td>\n",
       "      <td>No</td>\n",
       "      <td>No</td>\n",
       "    </tr>\n",
       "    <tr>\n",
       "      <th>3</th>\n",
       "      <td>18</td>\n",
       "      <td>No</td>\n",
       "      <td>4/19/2022 2:18:48</td>\n",
       "      <td>Female</td>\n",
       "      <td>Single</td>\n",
       "      <td>University Student</td>\n",
       "      <td>Yes</td>\n",
       "      <td>Facebook, YouTube, Reddit</td>\n",
       "      <td>Between 3 and 4 hours</td>\n",
       "      <td>3</td>\n",
       "      <td>3</td>\n",
       "      <td>5</td>\n",
       "      <td>5</td>\n",
       "      <td>False</td>\n",
       "      <td>Low Risk</td>\n",
       "      <td>No</td>\n",
       "      <td>No</td>\n",
       "      <td>No</td>\n",
       "    </tr>\n",
       "    <tr>\n",
       "      <th>4</th>\n",
       "      <td>18</td>\n",
       "      <td>No</td>\n",
       "      <td>5/11/2022 22:03:42</td>\n",
       "      <td>Female</td>\n",
       "      <td>Single</td>\n",
       "      <td>University Student</td>\n",
       "      <td>Yes</td>\n",
       "      <td>Facebook, Instagram, YouTube, Snapchat, Discor...</td>\n",
       "      <td>More than 5 hours</td>\n",
       "      <td>2</td>\n",
       "      <td>2</td>\n",
       "      <td>2</td>\n",
       "      <td>4</td>\n",
       "      <td>False</td>\n",
       "      <td>Low Risk</td>\n",
       "      <td>No</td>\n",
       "      <td>No</td>\n",
       "      <td>No</td>\n",
       "    </tr>\n",
       "  </tbody>\n",
       "</table>\n",
       "</div>"
      ],
      "text/plain": [
       "   Age family_history           Timestamp  Gender Relationship  \\\n",
       "0   18             No  4/18/2022 20:53:37    Male       Single   \n",
       "1   18             No  4/18/2022 23:12:03  Female       Single   \n",
       "2   18             No   4/19/2022 0:10:02  Others       Single   \n",
       "3   18             No   4/19/2022 2:18:48  Female       Single   \n",
       "4   18             No  5/11/2022 22:03:42  Female       Single   \n",
       "\n",
       "           Occupation Social_media_use  \\\n",
       "0      School Student              Yes   \n",
       "1  University Student              Yes   \n",
       "2      School Student              Yes   \n",
       "3  University Student              Yes   \n",
       "4  University Student              Yes   \n",
       "\n",
       "                                   Social_media_type     Social_media_usage  \\\n",
       "0   Facebook, Instagram, YouTube, Discord, Pinterest  Between 2 and 3 hours   \n",
       "1            Facebook, Instagram, YouTube, Pinterest      More than 5 hours   \n",
       "2        Twitter, Instagram, YouTube, Reddit, TikTok  Between 2 and 3 hours   \n",
       "3                          Facebook, YouTube, Reddit  Between 3 and 4 hours   \n",
       "4  Facebook, Instagram, YouTube, Snapchat, Discor...      More than 5 hours   \n",
       "\n",
       "   Restless  Distracted_rating  Depressed_rating  Sleepless_rating  Trauma  \\\n",
       "0         3                  3                 3                 2   False   \n",
       "1         3                  5                 5                 5   False   \n",
       "2         2                  3                 4                 4   False   \n",
       "3         3                  3                 5                 5   False   \n",
       "4         2                  2                 2                 4   False   \n",
       "\n",
       "  Addiction_Risk Addiction_Class Social_Isolation Withdrawal_Symptoms  \n",
       "0       Low Risk              No               No                  No  \n",
       "1        At Risk              No              Yes                  No  \n",
       "2       Low Risk              No               No                  No  \n",
       "3       Low Risk              No               No                  No  \n",
       "4       Low Risk              No               No                  No  "
      ]
     },
     "execution_count": 168,
     "metadata": {},
     "output_type": "execute_result"
    }
   ],
   "source": [
    "# Define a function to look up the corresponding 'Addiction_Class' from addictionDS based on 'Addiction_Risk'\n",
    "def get_addiction_class(risk_value):\n",
    "    # Use `loc` to find the corresponding 'Addiction_Class' for the 'Addiction_Risk'\n",
    "    result = addictionDS.loc[addictionDS['Addiction_Risk'] == risk_value,['Addiction_Class', 'Social_Isolation', 'Withdrawal_Symptoms']]\n",
    "    # If a match is found, return the value; otherwise, return NaN\n",
    "    return result.iloc[0] if not result.empty else None\n",
    "\n",
    "# Apply the function to each row of merged_df to create a new column 'Addiction_Class'\n",
    "merged_df[['Addiction_Class', 'Social_Isolation', 'Withdrawal_Symptoms']] = merged_df['Addiction_Risk'].apply(get_addiction_class)\n",
    "\n",
    "# Check the result\n",
    "merged_df.head()"
   ]
  },
  {
   "cell_type": "code",
   "execution_count": 170,
   "id": "95a8da37-6c7a-40b7-8306-c48b163449aa",
   "metadata": {},
   "outputs": [
    {
     "data": {
      "text/html": [
       "<div>\n",
       "<style scoped>\n",
       "    .dataframe tbody tr th:only-of-type {\n",
       "        vertical-align: middle;\n",
       "    }\n",
       "\n",
       "    .dataframe tbody tr th {\n",
       "        vertical-align: top;\n",
       "    }\n",
       "\n",
       "    .dataframe thead th {\n",
       "        text-align: right;\n",
       "    }\n",
       "</style>\n",
       "<table border=\"1\" class=\"dataframe\">\n",
       "  <thead>\n",
       "    <tr style=\"text-align: right;\">\n",
       "      <th></th>\n",
       "      <th>Age</th>\n",
       "      <th>Restless</th>\n",
       "      <th>Distracted_rating</th>\n",
       "      <th>Depressed_rating</th>\n",
       "      <th>Sleepless_rating</th>\n",
       "    </tr>\n",
       "  </thead>\n",
       "  <tbody>\n",
       "    <tr>\n",
       "      <th>count</th>\n",
       "      <td>459.000000</td>\n",
       "      <td>459.000000</td>\n",
       "      <td>459.000000</td>\n",
       "      <td>459.000000</td>\n",
       "      <td>459.000000</td>\n",
       "    </tr>\n",
       "    <tr>\n",
       "      <th>mean</th>\n",
       "      <td>26.278867</td>\n",
       "      <td>2.590414</td>\n",
       "      <td>3.344227</td>\n",
       "      <td>3.261438</td>\n",
       "      <td>3.202614</td>\n",
       "    </tr>\n",
       "    <tr>\n",
       "      <th>std</th>\n",
       "      <td>9.147781</td>\n",
       "      <td>1.265082</td>\n",
       "      <td>1.183596</td>\n",
       "      <td>1.310545</td>\n",
       "      <td>1.456919</td>\n",
       "    </tr>\n",
       "    <tr>\n",
       "      <th>min</th>\n",
       "      <td>18.000000</td>\n",
       "      <td>1.000000</td>\n",
       "      <td>1.000000</td>\n",
       "      <td>1.000000</td>\n",
       "      <td>1.000000</td>\n",
       "    </tr>\n",
       "    <tr>\n",
       "      <th>25%</th>\n",
       "      <td>21.000000</td>\n",
       "      <td>2.000000</td>\n",
       "      <td>3.000000</td>\n",
       "      <td>2.000000</td>\n",
       "      <td>2.000000</td>\n",
       "    </tr>\n",
       "    <tr>\n",
       "      <th>50%</th>\n",
       "      <td>22.000000</td>\n",
       "      <td>2.000000</td>\n",
       "      <td>3.000000</td>\n",
       "      <td>3.000000</td>\n",
       "      <td>3.000000</td>\n",
       "    </tr>\n",
       "    <tr>\n",
       "      <th>75%</th>\n",
       "      <td>26.000000</td>\n",
       "      <td>3.000000</td>\n",
       "      <td>4.000000</td>\n",
       "      <td>4.000000</td>\n",
       "      <td>5.000000</td>\n",
       "    </tr>\n",
       "    <tr>\n",
       "      <th>max</th>\n",
       "      <td>65.000000</td>\n",
       "      <td>5.000000</td>\n",
       "      <td>5.000000</td>\n",
       "      <td>5.000000</td>\n",
       "      <td>5.000000</td>\n",
       "    </tr>\n",
       "  </tbody>\n",
       "</table>\n",
       "</div>"
      ],
      "text/plain": [
       "              Age    Restless  Distracted_rating  Depressed_rating  \\\n",
       "count  459.000000  459.000000         459.000000        459.000000   \n",
       "mean    26.278867    2.590414           3.344227          3.261438   \n",
       "std      9.147781    1.265082           1.183596          1.310545   \n",
       "min     18.000000    1.000000           1.000000          1.000000   \n",
       "25%     21.000000    2.000000           3.000000          2.000000   \n",
       "50%     22.000000    2.000000           3.000000          3.000000   \n",
       "75%     26.000000    3.000000           4.000000          4.000000   \n",
       "max     65.000000    5.000000           5.000000          5.000000   \n",
       "\n",
       "       Sleepless_rating  \n",
       "count        459.000000  \n",
       "mean           3.202614  \n",
       "std            1.456919  \n",
       "min            1.000000  \n",
       "25%            2.000000  \n",
       "50%            3.000000  \n",
       "75%            5.000000  \n",
       "max            5.000000  "
      ]
     },
     "execution_count": 170,
     "metadata": {},
     "output_type": "execute_result"
    }
   ],
   "source": [
    "# Stats Description of the merged data\n",
    "merged_df.describe()"
   ]
  },
  {
   "cell_type": "code",
   "execution_count": 196,
   "id": "202e1789-a475-4109-a7ec-92df6334f988",
   "metadata": {},
   "outputs": [
    {
     "name": "stdout",
     "output_type": "stream",
     "text": [
      "26.278867102396514\n",
      "22.0\n"
     ]
    }
   ],
   "source": [
    "# Checking the mean and median of the age in above dataset\n",
    "print(merged_df['Age'].mean())\n",
    "print(merged_df['Age'].median())\n"
   ]
  },
  {
   "cell_type": "code",
   "execution_count": 218,
   "id": "a56a22cb-8dfe-4c5b-ab15-d1e6e89182f3",
   "metadata": {},
   "outputs": [
    {
     "data": {
      "text/plain": [
       "Index(['Age', 'family_history', 'Timestamp', 'Gender', 'Relationship',\n",
       "       'Occupation', 'Social_media_use', 'Social_media_type',\n",
       "       'Social_media_usage', 'Restless', 'Distracted_rating',\n",
       "       'Depressed_rating', 'Sleepless_rating', 'Trauma', 'Addiction_Risk',\n",
       "       'Addiction_Class', 'Social_Isolation', 'Withdrawal_Symptoms',\n",
       "       'Age_Group'],\n",
       "      dtype='object')"
      ]
     },
     "execution_count": 218,
     "metadata": {},
     "output_type": "execute_result"
    }
   ],
   "source": [
    "merged_df.columns"
   ]
  },
  {
   "cell_type": "code",
   "execution_count": 224,
   "id": "ea9c6caa-6d6d-4864-9a54-dc925de18c04",
   "metadata": {},
   "outputs": [
    {
     "name": "stdout",
     "output_type": "stream",
     "text": [
      "         Age\n",
      "0  24.416104\n",
      "1  22.993089\n",
      "2  20.824837\n",
      "3  22.598893\n",
      "4  20.835454\n"
     ]
    },
    {
     "data": {
      "text/plain": [
       "Age    57.534332\n",
       "dtype: float64"
      ]
     },
     "execution_count": 224,
     "metadata": {},
     "output_type": "execute_result"
    }
   ],
   "source": [
    "from sklearn.mixture import GaussianMixture\n",
    "\n",
    "# Fit a GMM on the data\n",
    "gmm = GaussianMixture(n_components=3, random_state=42)  # 3 components, adjust as necessary\n",
    "gmm.fit(merged_df[['Age']])  # Fit on relevant columns\n",
    "\n",
    "# Generate synthetic data similar to the original dataset\n",
    "synthetic_data = gmm.sample(n_samples=len(merged_df))[0]  # Generating same size as original data\n",
    "\n",
    "# Create a DataFrame for synthetic data\n",
    "synthetic_df = pd.DataFrame(synthetic_data, columns=['Age'])\n",
    "\n",
    "# Display the synthetic data\n",
    "print(synthetic_df.head())\n",
    "synthetic_df.max()"
   ]
  },
  {
   "cell_type": "code",
   "execution_count": 172,
   "id": "ccdb9f92-3f07-4f1c-8f3d-c67c0489d754",
   "metadata": {},
   "outputs": [
    {
     "name": "stdout",
     "output_type": "stream",
     "text": [
      "                       Age  Depressed_rating\n",
      "Age               1.000000         -0.391105\n",
      "Depressed_rating -0.391105          1.000000\n"
     ]
    }
   ],
   "source": [
    "print(merged_df[['Age', 'Depressed_rating']].corr())"
   ]
  },
  {
   "cell_type": "code",
   "execution_count": 194,
   "id": "bcd18e23-ec75-4294-9485-98c1ebc62f03",
   "metadata": {},
   "outputs": [
    {
     "name": "stdout",
     "output_type": "stream",
     "text": [
      "Correlation: 0.3281146111884621, P-value: 5.552359825842281e-13\n"
     ]
    }
   ],
   "source": [
    "# Correlation between age and depressed rating\n",
    "corr, p_value = pearsonr(merged_df['Age'], merged_df['Depressed_rating'])\n",
    "print(f\"Correlation: {corr}, P-value: {p_value}\")"
   ]
  },
  {
   "cell_type": "code",
   "execution_count": 176,
   "id": "952f598b-c768-4647-8bf7-5c8f08cbfc18",
   "metadata": {},
   "outputs": [
    {
     "data": {
      "image/png": "[encoded data removed]",
      "text/plain": [
       "<Figure size 640x480 with 1 Axes>"
      ]
     },
     "metadata": {},
     "output_type": "display_data"
    }
   ],
   "source": [
    "plt.scatter(merged_df['Age'], merged_df['Depressed_rating'])\n",
    "plt.title(\"Scatter Plot: Age vs. Depressed Rating\")\n",
    "plt.xlabel(\"Age\")\n",
    "plt.ylabel(\"Depressed Rating\")\n",
    "plt.show()"
   ]
  },
  {
   "cell_type": "code",
   "execution_count": 230,
   "id": "9ce6d695-18f0-4356-83cb-b35bbfba6ab6",
   "metadata": {},
   "outputs": [
    {
     "name": "stdout",
     "output_type": "stream",
     "text": [
      "Age_Group\n",
      "15-30    3.522788\n",
      "30-40    2.424242\n",
      "40-50    2.000000\n",
      "50-60    1.714286\n",
      "60-70    1.000000\n",
      "Name: Depressed_rating, dtype: float64\n"
     ]
    },
    {
     "name": "stderr",
     "output_type": "stream",
     "text": [
      "/var/folders/gw/g4f9j0rj55j7wlpd_183__qm0000gq/T/ipykernel_52045/4294963576.py:2: FutureWarning: The default of observed=False is deprecated and will be changed to True in a future version of pandas. Pass observed=False to retain current behavior or observed=True to adopt the future default and silence this warning.\n",
      "  group_means = merged_df.groupby('Age_Group')['Depressed_rating'].mean()\n"
     ]
    },
    {
     "data": {
      "image/png": "[encoded data removed]",
      "text/plain": [
       "<Figure size 640x480 with 1 Axes>"
      ]
     },
     "metadata": {},
     "output_type": "display_data"
    }
   ],
   "source": [
    "merged_df['Age_Group'] = pd.cut(merged_df['Age'], bins=[15, 30, 40,50,60,70], labels=[\"15-30\", \"30-40\",\"40-50\",\"50-60\",\"60-70\"])\n",
    "group_means = merged_df.groupby('Age_Group')['Depressed_rating'].mean()\n",
    "print(group_means)\n",
    "\n",
    "group_means.plot(kind='bar', title=\"Average Depression Rating by Age Group\")\n",
    "plt.xlabel(\"Age Group\")\n",
    "plt.ylabel(\"Average Depressed Rating\")\n",
    "plt.show()"
   ]
  },
  {
   "cell_type": "code",
   "execution_count": 338,
   "id": "006440be-ed82-489b-89a4-5f792ea76d72",
   "metadata": {},
   "outputs": [
    {
     "data": {
      "image/png": "[encoded data removed]",
      "text/plain": [
       "<Figure size 640x480 with 1 Axes>"
      ]
     },
     "metadata": {},
     "output_type": "display_data"
    }
   ],
   "source": [
    "import matplotlib.pyplot as plt\n",
    "import seaborn as sns\n",
    "\n",
    "sns.histplot(merged_df['Age'])\n",
    "plt.show()"
   ]
  },
  {
   "cell_type": "code",
   "execution_count": 278,
   "id": "209d45a6-5727-4fee-a963-af508cd31590",
   "metadata": {},
   "outputs": [
    {
     "name": "stdout",
     "output_type": "stream",
     "text": [
      "Index(['Age', 'family_history', 'Timestamp', 'Gender', 'Relationship',\n",
      "       'Occupation', 'Social_media_use', 'Social_media_type',\n",
      "       'Social_media_usage', 'Restless', 'Distracted_rating',\n",
      "       'Depressed_rating', 'Sleepless_rating', 'Trauma', 'Addiction_Risk',\n",
      "       'Addiction_Class', 'Social_Isolation', 'Withdrawal_Symptoms',\n",
      "       'Age_Group'],\n",
      "      dtype='object')\n"
     ]
    },
    {
     "data": {
      "text/plain": [
       "Gender\n",
       "Female    232\n",
       "Male      222\n",
       "Others      5\n",
       "Name: Gender, dtype: int64"
      ]
     },
     "execution_count": 278,
     "metadata": {},
     "output_type": "execute_result"
    }
   ],
   "source": [
    "print(merged_df.columns)\n",
    "merged_df.groupby('Gender')['Gender'].count()"
   ]
  },
  {
   "cell_type": "code",
   "execution_count": 346,
   "id": "b55cf042-d5a3-4c34-9301-22635a7fbaee",
   "metadata": {},
   "outputs": [
    {
     "data": {
      "image/png": "[encoded data removed]",
      "text/plain": [
       "<Figure size 640x480 with 1 Axes>"
      ]
     },
     "metadata": {},
     "output_type": "display_data"
    }
   ],
   "source": [
    "box = sns.boxplot(merged_df['Gender'])\n",
    "box = sns.boxplot(merged_df['Social_Isolation'])\n",
    "box = sns.boxplot(merged_df['Addiction_Risk'])\n",
    "box.set(ylabel='Addiction Risk Vs Social Isolation Vs Gender')\n",
    "plt.show()"
   ]
  },
  {
   "cell_type": "code",
   "execution_count": 284,
   "id": "213a797e-5d4b-4603-9760-aa3660156e05",
   "metadata": {},
   "outputs": [
    {
     "ename": "ValueError",
     "evalue": "could not convert string to float: 'No'",
     "output_type": "error",
     "traceback": [
      "\u001b[0;31m---------------------------------------------------------------------------\u001b[0m",
      "\u001b[0;31mValueError\u001b[0m                                Traceback (most recent call last)",
      "Cell \u001b[0;32mIn[284], line 1\u001b[0m\n\u001b[0;32m----> 1\u001b[0m correlation_matrix \u001b[38;5;241m=\u001b[39m merged_df\u001b[38;5;241m.\u001b[39mcorr()\n\u001b[1;32m      2\u001b[0m \u001b[38;5;28mprint\u001b[39m(correlation_matrix)\n",
      "File \u001b[0;32m/opt/anaconda3/lib/python3.12/site-packages/pandas/core/frame.py:11049\u001b[0m, in \u001b[0;36mDataFrame.corr\u001b[0;34m(self, method, min_periods, numeric_only)\u001b[0m\n\u001b[1;32m  11047\u001b[0m cols \u001b[38;5;241m=\u001b[39m data\u001b[38;5;241m.\u001b[39mcolumns\n\u001b[1;32m  11048\u001b[0m idx \u001b[38;5;241m=\u001b[39m cols\u001b[38;5;241m.\u001b[39mcopy()\n\u001b[0;32m> 11049\u001b[0m mat \u001b[38;5;241m=\u001b[39m data\u001b[38;5;241m.\u001b[39mto_numpy(dtype\u001b[38;5;241m=\u001b[39m\u001b[38;5;28mfloat\u001b[39m, na_value\u001b[38;5;241m=\u001b[39mnp\u001b[38;5;241m.\u001b[39mnan, copy\u001b[38;5;241m=\u001b[39m\u001b[38;5;28;01mFalse\u001b[39;00m)\n\u001b[1;32m  11051\u001b[0m \u001b[38;5;28;01mif\u001b[39;00m method \u001b[38;5;241m==\u001b[39m \u001b[38;5;124m\"\u001b[39m\u001b[38;5;124mpearson\u001b[39m\u001b[38;5;124m\"\u001b[39m:\n\u001b[1;32m  11052\u001b[0m     correl \u001b[38;5;241m=\u001b[39m libalgos\u001b[38;5;241m.\u001b[39mnancorr(mat, minp\u001b[38;5;241m=\u001b[39mmin_periods)\n",
      "File \u001b[0;32m/opt/anaconda3/lib/python3.12/site-packages/pandas/core/frame.py:1993\u001b[0m, in \u001b[0;36mDataFrame.to_numpy\u001b[0;34m(self, dtype, copy, na_value)\u001b[0m\n\u001b[1;32m   1991\u001b[0m \u001b[38;5;28;01mif\u001b[39;00m dtype \u001b[38;5;129;01mis\u001b[39;00m \u001b[38;5;129;01mnot\u001b[39;00m \u001b[38;5;28;01mNone\u001b[39;00m:\n\u001b[1;32m   1992\u001b[0m     dtype \u001b[38;5;241m=\u001b[39m np\u001b[38;5;241m.\u001b[39mdtype(dtype)\n\u001b[0;32m-> 1993\u001b[0m result \u001b[38;5;241m=\u001b[39m \u001b[38;5;28mself\u001b[39m\u001b[38;5;241m.\u001b[39m_mgr\u001b[38;5;241m.\u001b[39mas_array(dtype\u001b[38;5;241m=\u001b[39mdtype, copy\u001b[38;5;241m=\u001b[39mcopy, na_value\u001b[38;5;241m=\u001b[39mna_value)\n\u001b[1;32m   1994\u001b[0m \u001b[38;5;28;01mif\u001b[39;00m result\u001b[38;5;241m.\u001b[39mdtype \u001b[38;5;129;01mis\u001b[39;00m \u001b[38;5;129;01mnot\u001b[39;00m dtype:\n\u001b[1;32m   1995\u001b[0m     result \u001b[38;5;241m=\u001b[39m np\u001b[38;5;241m.\u001b[39masarray(result, dtype\u001b[38;5;241m=\u001b[39mdtype)\n",
      "File \u001b[0;32m/opt/anaconda3/lib/python3.12/site-packages/pandas/core/internals/managers.py:1694\u001b[0m, in \u001b[0;36mBlockManager.as_array\u001b[0;34m(self, dtype, copy, na_value)\u001b[0m\n\u001b[1;32m   1692\u001b[0m         arr\u001b[38;5;241m.\u001b[39mflags\u001b[38;5;241m.\u001b[39mwriteable \u001b[38;5;241m=\u001b[39m \u001b[38;5;28;01mFalse\u001b[39;00m\n\u001b[1;32m   1693\u001b[0m \u001b[38;5;28;01melse\u001b[39;00m:\n\u001b[0;32m-> 1694\u001b[0m     arr \u001b[38;5;241m=\u001b[39m \u001b[38;5;28mself\u001b[39m\u001b[38;5;241m.\u001b[39m_interleave(dtype\u001b[38;5;241m=\u001b[39mdtype, na_value\u001b[38;5;241m=\u001b[39mna_value)\n\u001b[1;32m   1695\u001b[0m     \u001b[38;5;66;03m# The underlying data was copied within _interleave, so no need\u001b[39;00m\n\u001b[1;32m   1696\u001b[0m     \u001b[38;5;66;03m# to further copy if copy=True or setting na_value\u001b[39;00m\n\u001b[1;32m   1698\u001b[0m \u001b[38;5;28;01mif\u001b[39;00m na_value \u001b[38;5;129;01mis\u001b[39;00m lib\u001b[38;5;241m.\u001b[39mno_default:\n",
      "File \u001b[0;32m/opt/anaconda3/lib/python3.12/site-packages/pandas/core/internals/managers.py:1753\u001b[0m, in \u001b[0;36mBlockManager._interleave\u001b[0;34m(self, dtype, na_value)\u001b[0m\n\u001b[1;32m   1751\u001b[0m     \u001b[38;5;28;01melse\u001b[39;00m:\n\u001b[1;32m   1752\u001b[0m         arr \u001b[38;5;241m=\u001b[39m blk\u001b[38;5;241m.\u001b[39mget_values(dtype)\n\u001b[0;32m-> 1753\u001b[0m     result[rl\u001b[38;5;241m.\u001b[39mindexer] \u001b[38;5;241m=\u001b[39m arr\n\u001b[1;32m   1754\u001b[0m     itemmask[rl\u001b[38;5;241m.\u001b[39mindexer] \u001b[38;5;241m=\u001b[39m \u001b[38;5;241m1\u001b[39m\n\u001b[1;32m   1756\u001b[0m \u001b[38;5;28;01mif\u001b[39;00m \u001b[38;5;129;01mnot\u001b[39;00m itemmask\u001b[38;5;241m.\u001b[39mall():\n",
      "\u001b[0;31mValueError\u001b[0m: could not convert string to float: 'No'"
     ]
    }
   ],
   "source": [
    "correlation_matrix = merged_df.corr()\n",
    "print(correlation_matrix)"
   ]
  },
  {
   "cell_type": "code",
   "execution_count": 286,
   "id": "24f27658-3c6a-4c7a-9201-82257dcb947a",
   "metadata": {},
   "outputs": [
    {
     "name": "stdout",
     "output_type": "stream",
     "text": [
      "<class 'pandas.core.frame.DataFrame'>\n",
      "RangeIndex: 459 entries, 0 to 458\n",
      "Data columns (total 19 columns):\n",
      " #   Column               Non-Null Count  Dtype   \n",
      "---  ------               --------------  -----   \n",
      " 0   Age                  459 non-null    int64   \n",
      " 1   family_history       459 non-null    object  \n",
      " 2   Timestamp            459 non-null    object  \n",
      " 3   Gender               459 non-null    object  \n",
      " 4   Relationship         459 non-null    object  \n",
      " 5   Occupation           459 non-null    object  \n",
      " 6   Social_media_use     459 non-null    object  \n",
      " 7   Social_media_type    459 non-null    object  \n",
      " 8   Social_media_usage   459 non-null    object  \n",
      " 9   Restless             459 non-null    int64   \n",
      " 10  Distracted_rating    459 non-null    int64   \n",
      " 11  Depressed_rating     459 non-null    int64   \n",
      " 12  Sleepless_rating     459 non-null    int64   \n",
      " 13  Trauma               459 non-null    bool    \n",
      " 14  Addiction_Risk       459 non-null    object  \n",
      " 15  Addiction_Class      459 non-null    object  \n",
      " 16  Social_Isolation     459 non-null    object  \n",
      " 17  Withdrawal_Symptoms  459 non-null    object  \n",
      " 18  Age_Group            459 non-null    category\n",
      "dtypes: bool(1), category(1), int64(5), object(12)\n",
      "memory usage: 62.2+ KB\n"
     ]
    }
   ],
   "source": [
    "merged_df.info()"
   ]
  }
 ],
 "metadata": {
  "kernelspec": {
   "display_name": "Python 3 (ipykernel)",
   "language": "python",
   "name": "python3"
  },
  "language_info": {
   "codemirror_mode": {
    "name": "ipython",
    "version": 3
   },
   "file_extension": ".py",
   "mimetype": "text/x-python",
   "name": "python",
   "nbconvert_exporter": "python",
   "pygments_lexer": "ipython3",
   "version": "3.12.7"
  }
 },
 "nbformat": 4,
 "nbformat_minor": 5
}
